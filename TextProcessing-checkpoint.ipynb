{
 "cells": [
  {
   "cell_type": "code",
   "execution_count": 1,
   "id": "bef34382",
   "metadata": {},
   "outputs": [],
   "source": [
    "import nltk"
   ]
  },
  {
   "cell_type": "code",
   "execution_count": 2,
   "id": "202bbc2f",
   "metadata": {},
   "outputs": [],
   "source": [
    "import string"
   ]
  },
  {
   "cell_type": "code",
   "execution_count": 3,
   "id": "ad41ae0d",
   "metadata": {},
   "outputs": [],
   "source": [
    "from nltk import word_tokenize, sent_tokenize"
   ]
  },
  {
   "cell_type": "code",
   "execution_count": 5,
   "id": "1ae86fa2",
   "metadata": {},
   "outputs": [],
   "source": [
    "from nltk.corpus import stopwords"
   ]
  },
  {
   "cell_type": "code",
   "execution_count": 6,
   "id": "a0aa8bd5",
   "metadata": {},
   "outputs": [],
   "source": [
    "from nltk.stem.porter import*"
   ]
  },
  {
   "cell_type": "code",
   "execution_count": 7,
   "id": "c6ba3aa9",
   "metadata": {},
   "outputs": [
    {
     "name": "stderr",
     "output_type": "stream",
     "text": [
      "[nltk_data] Downloading package stopwords to C:\\Users\\My\n",
      "[nltk_data]     Pc\\AppData\\Roaming\\nltk_data...\n",
      "[nltk_data]   Package stopwords is already up-to-date!\n"
     ]
    },
    {
     "data": {
      "text/plain": [
       "True"
      ]
     },
     "execution_count": 7,
     "metadata": {},
     "output_type": "execute_result"
    }
   ],
   "source": [
    "nltk.download('stopwords')"
   ]
  },
  {
   "cell_type": "code",
   "execution_count": 8,
   "id": "dceacdf3",
   "metadata": {},
   "outputs": [],
   "source": [
    "sentences = \"Apple today unveiled completely redesigned Everyone Can Code curriculum to help introduce more elementary and middle school students to the world of coding. Now available, the new curriculum includes even more resources for teachers, a brand new guide for students and updated Swift Coding Club materials. Today millions of students worldwide already use Everyone Can Code curriculum to bring their ideas to life and develop important skills including creativity, collaboration and problem solving. \""
   ]
  },
  {
   "cell_type": "code",
   "execution_count": 11,
   "id": "4b002bcc",
   "metadata": {},
   "outputs": [
    {
     "data": {
      "text/plain": [
       "'Apple today unveiled completely redesigned Everyone Can Code curriculum to help introduce more elementary and middle school students to the world of coding. Now available, the new curriculum includes even more resources for teachers, a brand new guide for students and updated Swift Coding Club materials. Today millions of students worldwide already use Everyone Can Code curriculum to bring their ideas to life and develop important skills including creativity, collaboration and problem solving. '"
      ]
     },
     "execution_count": 11,
     "metadata": {},
     "output_type": "execute_result"
    }
   ],
   "source": [
    "sentences"
   ]
  },
  {
   "cell_type": "code",
   "execution_count": 12,
   "id": "5e1a6bcf",
   "metadata": {},
   "outputs": [],
   "source": [
    "sentence_tokens=sent_tokenize(sentences)"
   ]
  },
  {
   "cell_type": "code",
   "execution_count": 13,
   "id": "c35dd93a",
   "metadata": {},
   "outputs": [
    {
     "data": {
      "text/plain": [
       "['Apple today unveiled completely redesigned Everyone Can Code curriculum to help introduce more elementary and middle school students to the world of coding.',\n",
       " 'Now available, the new curriculum includes even more resources for teachers, a brand new guide for students and updated Swift Coding Club materials.',\n",
       " 'Today millions of students worldwide already use Everyone Can Code curriculum to bring their ideas to life and develop important skills including creativity, collaboration and problem solving.']"
      ]
     },
     "execution_count": 13,
     "metadata": {},
     "output_type": "execute_result"
    }
   ],
   "source": [
    "sentence_tokens"
   ]
  },
  {
   "cell_type": "code",
   "execution_count": 24,
   "id": "e48d6410",
   "metadata": {},
   "outputs": [],
   "source": [
    "lower_sentence=sentence_tokens[1].lower()"
   ]
  },
  {
   "cell_type": "code",
   "execution_count": 22,
   "id": "7b7f1193",
   "metadata": {},
   "outputs": [
    {
     "data": {
      "text/plain": [
       "'now available, the new curriculum includes even more resources for teachers, a brand new guide for students and updated swift coding club materials.'"
      ]
     },
     "execution_count": 22,
     "metadata": {},
     "output_type": "execute_result"
    }
   ],
   "source": [
    "lower_sentence"
   ]
  },
  {
   "cell_type": "code",
   "execution_count": 25,
   "id": "65171b7c",
   "metadata": {},
   "outputs": [],
   "source": [
    "tokenized_words=word_tokenize(lower_sentence)"
   ]
  },
  {
   "cell_type": "code",
   "execution_count": 26,
   "id": "5cfa2462",
   "metadata": {},
   "outputs": [
    {
     "data": {
      "text/plain": [
       "['now',\n",
       " 'available',\n",
       " ',',\n",
       " 'the',\n",
       " 'new',\n",
       " 'curriculum',\n",
       " 'includes',\n",
       " 'even',\n",
       " 'more',\n",
       " 'resources',\n",
       " 'for',\n",
       " 'teachers',\n",
       " ',',\n",
       " 'a',\n",
       " 'brand',\n",
       " 'new',\n",
       " 'guide',\n",
       " 'for',\n",
       " 'students',\n",
       " 'and',\n",
       " 'updated',\n",
       " 'swift',\n",
       " 'coding',\n",
       " 'club',\n",
       " 'materials',\n",
       " '.']"
      ]
     },
     "execution_count": 26,
     "metadata": {},
     "output_type": "execute_result"
    }
   ],
   "source": [
    "tokenized_words"
   ]
  },
  {
   "cell_type": "code",
   "execution_count": 27,
   "id": "7006cb70",
   "metadata": {},
   "outputs": [],
   "source": [
    "#removing stpwords"
   ]
  },
  {
   "cell_type": "code",
   "execution_count": 30,
   "id": "50edde4d",
   "metadata": {},
   "outputs": [],
   "source": [
    "st=stopwords.words('english')+list(string.punctuation)"
   ]
  },
  {
   "cell_type": "code",
   "execution_count": 31,
   "id": "79fb4d7d",
   "metadata": {},
   "outputs": [
    {
     "data": {
      "text/plain": [
       "['i',\n",
       " 'me',\n",
       " 'my',\n",
       " 'myself',\n",
       " 'we',\n",
       " 'our',\n",
       " 'ours',\n",
       " 'ourselves',\n",
       " 'you',\n",
       " \"you're\",\n",
       " \"you've\",\n",
       " \"you'll\",\n",
       " \"you'd\",\n",
       " 'your',\n",
       " 'yours',\n",
       " 'yourself',\n",
       " 'yourselves',\n",
       " 'he',\n",
       " 'him',\n",
       " 'his',\n",
       " 'himself',\n",
       " 'she',\n",
       " \"she's\",\n",
       " 'her',\n",
       " 'hers',\n",
       " 'herself',\n",
       " 'it',\n",
       " \"it's\",\n",
       " 'its',\n",
       " 'itself',\n",
       " 'they',\n",
       " 'them',\n",
       " 'their',\n",
       " 'theirs',\n",
       " 'themselves',\n",
       " 'what',\n",
       " 'which',\n",
       " 'who',\n",
       " 'whom',\n",
       " 'this',\n",
       " 'that',\n",
       " \"that'll\",\n",
       " 'these',\n",
       " 'those',\n",
       " 'am',\n",
       " 'is',\n",
       " 'are',\n",
       " 'was',\n",
       " 'were',\n",
       " 'be',\n",
       " 'been',\n",
       " 'being',\n",
       " 'have',\n",
       " 'has',\n",
       " 'had',\n",
       " 'having',\n",
       " 'do',\n",
       " 'does',\n",
       " 'did',\n",
       " 'doing',\n",
       " 'a',\n",
       " 'an',\n",
       " 'the',\n",
       " 'and',\n",
       " 'but',\n",
       " 'if',\n",
       " 'or',\n",
       " 'because',\n",
       " 'as',\n",
       " 'until',\n",
       " 'while',\n",
       " 'of',\n",
       " 'at',\n",
       " 'by',\n",
       " 'for',\n",
       " 'with',\n",
       " 'about',\n",
       " 'against',\n",
       " 'between',\n",
       " 'into',\n",
       " 'through',\n",
       " 'during',\n",
       " 'before',\n",
       " 'after',\n",
       " 'above',\n",
       " 'below',\n",
       " 'to',\n",
       " 'from',\n",
       " 'up',\n",
       " 'down',\n",
       " 'in',\n",
       " 'out',\n",
       " 'on',\n",
       " 'off',\n",
       " 'over',\n",
       " 'under',\n",
       " 'again',\n",
       " 'further',\n",
       " 'then',\n",
       " 'once',\n",
       " 'here',\n",
       " 'there',\n",
       " 'when',\n",
       " 'where',\n",
       " 'why',\n",
       " 'how',\n",
       " 'all',\n",
       " 'any',\n",
       " 'both',\n",
       " 'each',\n",
       " 'few',\n",
       " 'more',\n",
       " 'most',\n",
       " 'other',\n",
       " 'some',\n",
       " 'such',\n",
       " 'no',\n",
       " 'nor',\n",
       " 'not',\n",
       " 'only',\n",
       " 'own',\n",
       " 'same',\n",
       " 'so',\n",
       " 'than',\n",
       " 'too',\n",
       " 'very',\n",
       " 's',\n",
       " 't',\n",
       " 'can',\n",
       " 'will',\n",
       " 'just',\n",
       " 'don',\n",
       " \"don't\",\n",
       " 'should',\n",
       " \"should've\",\n",
       " 'now',\n",
       " 'd',\n",
       " 'll',\n",
       " 'm',\n",
       " 'o',\n",
       " 're',\n",
       " 've',\n",
       " 'y',\n",
       " 'ain',\n",
       " 'aren',\n",
       " \"aren't\",\n",
       " 'couldn',\n",
       " \"couldn't\",\n",
       " 'didn',\n",
       " \"didn't\",\n",
       " 'doesn',\n",
       " \"doesn't\",\n",
       " 'hadn',\n",
       " \"hadn't\",\n",
       " 'hasn',\n",
       " \"hasn't\",\n",
       " 'haven',\n",
       " \"haven't\",\n",
       " 'isn',\n",
       " \"isn't\",\n",
       " 'ma',\n",
       " 'mightn',\n",
       " \"mightn't\",\n",
       " 'mustn',\n",
       " \"mustn't\",\n",
       " 'needn',\n",
       " \"needn't\",\n",
       " 'shan',\n",
       " \"shan't\",\n",
       " 'shouldn',\n",
       " \"shouldn't\",\n",
       " 'wasn',\n",
       " \"wasn't\",\n",
       " 'weren',\n",
       " \"weren't\",\n",
       " 'won',\n",
       " \"won't\",\n",
       " 'wouldn',\n",
       " \"wouldn't\",\n",
       " '!',\n",
       " '\"',\n",
       " '#',\n",
       " '$',\n",
       " '%',\n",
       " '&',\n",
       " \"'\",\n",
       " '(',\n",
       " ')',\n",
       " '*',\n",
       " '+',\n",
       " ',',\n",
       " '-',\n",
       " '.',\n",
       " '/',\n",
       " ':',\n",
       " ';',\n",
       " '<',\n",
       " '=',\n",
       " '>',\n",
       " '?',\n",
       " '@',\n",
       " '[',\n",
       " '\\\\',\n",
       " ']',\n",
       " '^',\n",
       " '_',\n",
       " '`',\n",
       " '{',\n",
       " '|',\n",
       " '}',\n",
       " '~']"
      ]
     },
     "execution_count": 31,
     "metadata": {},
     "output_type": "execute_result"
    }
   ],
   "source": [
    "st"
   ]
  },
  {
   "cell_type": "code",
   "execution_count": 32,
   "id": "291141c1",
   "metadata": {},
   "outputs": [
    {
     "data": {
      "text/plain": [
       "['available',\n",
       " 'new',\n",
       " 'curriculum',\n",
       " 'includes',\n",
       " 'even',\n",
       " 'resources',\n",
       " 'teachers',\n",
       " 'brand',\n",
       " 'new',\n",
       " 'guide',\n",
       " 'students',\n",
       " 'updated',\n",
       " 'swift',\n",
       " 'coding',\n",
       " 'club',\n",
       " 'materials']"
      ]
     },
     "execution_count": 32,
     "metadata": {},
     "output_type": "execute_result"
    }
   ],
   "source": [
    "st=[word for word in tokenized_words if word not in st]\n",
    "st"
   ]
  },
  {
   "cell_type": "code",
   "execution_count": 33,
   "id": "2ea4008d",
   "metadata": {},
   "outputs": [],
   "source": [
    "#stem wrds, create  an instance pf the porterstemmer()"
   ]
  },
  {
   "cell_type": "code",
   "execution_count": 34,
   "id": "d5aaa95e",
   "metadata": {},
   "outputs": [],
   "source": [
    "stemmer=PorterStemmer()"
   ]
  },
  {
   "cell_type": "code",
   "execution_count": 35,
   "id": "6dc997d8",
   "metadata": {},
   "outputs": [
    {
     "data": {
      "text/plain": [
       "['avail',\n",
       " 'new',\n",
       " 'curriculum',\n",
       " 'includ',\n",
       " 'even',\n",
       " 'resourc',\n",
       " 'teacher',\n",
       " 'brand',\n",
       " 'new',\n",
       " 'guid',\n",
       " 'student',\n",
       " 'updat',\n",
       " 'swift',\n",
       " 'code',\n",
       " 'club',\n",
       " 'materi']"
      ]
     },
     "execution_count": 35,
     "metadata": {},
     "output_type": "execute_result"
    }
   ],
   "source": [
    "[stemmer.stem(word) for word in st]"
   ]
  },
  {
   "cell_type": "code",
   "execution_count": 36,
   "id": "f62bd142",
   "metadata": {},
   "outputs": [],
   "source": [
    "processed_sentences=[]"
   ]
  },
  {
   "cell_type": "code",
   "execution_count": 41,
   "id": "0a0d06c8",
   "metadata": {},
   "outputs": [],
   "source": [
    "for sentence in sent_tokenize(sentences):\n",
    "    low_tokens=word_tokenize(sentence.lower())\n",
    "    processed_sentences.append([word  for word in low_tokens if word not in st])"
   ]
  },
  {
   "cell_type": "code",
   "execution_count": 42,
   "id": "e86cd0fb",
   "metadata": {},
   "outputs": [
    {
     "data": {
      "text/plain": [
       "['apple',\n",
       " 'today',\n",
       " 'unveiled',\n",
       " 'completely',\n",
       " 'redesigned',\n",
       " 'everyone',\n",
       " 'can',\n",
       " 'code',\n",
       " 'to',\n",
       " 'help',\n",
       " 'introduce',\n",
       " 'more',\n",
       " 'elementary',\n",
       " 'and',\n",
       " 'middle',\n",
       " 'school',\n",
       " 'to',\n",
       " 'the',\n",
       " 'world',\n",
       " 'of',\n",
       " '.']"
      ]
     },
     "execution_count": 42,
     "metadata": {},
     "output_type": "execute_result"
    }
   ],
   "source": [
    "processed_sentences[0]"
   ]
  },
  {
   "cell_type": "code",
   "execution_count": 43,
   "id": "0d10f1fd",
   "metadata": {},
   "outputs": [],
   "source": [
    "#getting no of tokens"
   ]
  },
  {
   "cell_type": "code",
   "execution_count": 44,
   "id": "49e6f510",
   "metadata": {},
   "outputs": [
    {
     "data": {
      "text/plain": [
       "21"
      ]
     },
     "execution_count": 44,
     "metadata": {},
     "output_type": "execute_result"
    }
   ],
   "source": [
    "len(processed_sentences[0])"
   ]
  },
  {
   "cell_type": "code",
   "execution_count": null,
   "id": "ee99b679",
   "metadata": {},
   "outputs": [],
   "source": []
  }
 ],
 "metadata": {
  "kernelspec": {
   "display_name": "Python 3",
   "language": "python",
   "name": "python3"
  },
  "language_info": {
   "codemirror_mode": {
    "name": "ipython",
    "version": 3
   },
   "file_extension": ".py",
   "mimetype": "text/x-python",
   "name": "python",
   "nbconvert_exporter": "python",
   "pygments_lexer": "ipython3",
   "version": "3.8.8"
  }
 },
 "nbformat": 4,
 "nbformat_minor": 5
}
